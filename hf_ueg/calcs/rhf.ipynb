{
 "cells": [
  {
   "cell_type": "markdown",
   "metadata": {},
   "source": []
  },
  {
   "cell_type": "code",
   "execution_count": 3,
   "metadata": {},
   "outputs": [
    {
     "name": "stdout",
     "output_type": "stream",
     "text": [
      "0.858535681914999*pi**0.666666666666667*(r_s**(-3))**0.666666666666667\n"
     ]
    }
   ],
   "source": [
    "import sympy as sp\n",
    "\n",
    "# Define symbols\n",
    "n, r_s = sp.symbols('n r_s')\n",
    "\n",
    "# Standard definition of the Fermi energy in terms of density n\n",
    "E_F = 0.5*(3 * sp.pi**2 * n)**(2 / 3)\n",
    "\n",
    "# Express the electron density n in terms of the Wigner-Seitz radius r_s\n",
    "n_expr = 3 / (4 * sp.pi * r_s**3)\n",
    "\n",
    "# Substitute the expression for n into the Fermi energy formula\n",
    "E_F_in_r_s = E_F.subs(n, n_expr)\n",
    "\n",
    "# Simplify the expression\n",
    "E_F_in_r_s = E_F_in_r_s.simplify()\n",
    "\n",
    "print(E_F_in_r_s)\n"
   ]
  },
  {
   "cell_type": "code",
   "execution_count": 2,
   "metadata": {},
   "outputs": [
    {
     "data": {
      "text/latex": [
       "$\\displaystyle \\frac{7.596333120576}{N^{0.666666666666667} r_{s}^{2}}$"
      ],
      "text/plain": [
       "7.596333120576/(N**0.666666666666667*r_s**2)"
      ]
     },
     "execution_count": 2,
     "metadata": {},
     "output_type": "execute_result"
    }
   ],
   "source": [
    "import sympy as sp\n",
    "\n",
    "# Define symbols\n",
    "N, r_s = sp.symbols('N r_s')\n",
    "\n",
    "# Define the term\n",
    "inner_term = (2 * sp.pi) / ((4 * sp.pi * N / 3)**(1/3) * r_s)\n",
    "\n",
    "# Define the full expression\n",
    "expression = 0.5 * inner_term**2\n",
    "\n",
    "# Simplify the expression\n",
    "simplified_expression = sp.simplify(expression)\n",
    "\n",
    "# Print the simplified expression\n",
    "simplified_expression.evalf()"
   ]
  },
  {
   "cell_type": "markdown",
   "metadata": {},
   "source": [
    "Computing the Fermi energy"
   ]
  },
  {
   "cell_type": "code",
   "execution_count": 12,
   "metadata": {},
   "outputs": [
    {
     "name": "stdout",
     "output_type": "stream",
     "text": [
      "\\frac{8 \\sqrt{2} \\pi E_{F}^{\\frac{3}{2}}}{3}\n"
     ]
    }
   ],
   "source": [
    "import sympy as sp\n",
    "\n",
    "# Define symbols\n",
    "E, E_F, n = sp.symbols('E E_F n')\n",
    "\n",
    "# Express k in terms of E using k^2 = 2E\n",
    "k = sp.sqrt(2 * E)\n",
    "\n",
    "# Compute k^3\n",
    "k_cubed = k**3\n",
    "\n",
    "# Volume V in k-space\n",
    "V = (4 * sp.pi * k_cubed) / 3\n",
    "\n",
    "# Density of states g(E) by differentiating V with respect to E\n",
    "g_E = sp.diff(V, E)\n",
    "\n",
    "# Integrate g(E) to find the total number of states N up to E_F\n",
    "N = sp.integrate(g_E, (E, 0, E_F))\n",
    "\n",
    "# Simplify the expressions\n",
    "g_E_simplified = sp.simplify(g_E)\n",
    "N_simplified = sp.simplify(N)\n",
    "\n",
    "print(sp.latex(N_simplified))"
   ]
  },
  {
   "cell_type": "code",
   "execution_count": 15,
   "metadata": {},
   "outputs": [
    {
     "name": "stdout",
     "output_type": "stream",
     "text": [
      "7.596333120576*(n_x**2 + n_y**2 + n_z**2)/(N**0.666666666666667*r_s**2)\n"
     ]
    }
   ],
   "source": [
    "import sympy as sp\n",
    "\n",
    "# Define symbols for \\frac{1}{2}\\left(\\frac{2 \\pi}{\\left( \\frac{4\\pi N}{3} \\right)^{1/3} r_s}\\right)^2 \\left(n_x^2 + n_y^2 + n_z^2\\right)\n",
    "N, r_s, n_x, n_y, n_z = sp.symbols('N r_s n_x n_y n_z')\n",
    "\n",
    "# Define the term\n",
    "inner_term = (2 * sp.pi) / ((4 * sp.pi * N / 3)**(1/3) * r_s)\n",
    "\n",
    "# Define the full expression\n",
    "expression = 0.5 * inner_term**2 * (n_x**2 + n_y**2 + n_z**2)\n",
    "\n",
    "# Simplify the expression\n",
    "print(expression.evalf())"
   ]
  },
  {
   "cell_type": "markdown",
   "metadata": {},
   "source": [
    "Compute the forme energy using the expression given in the loos paper"
   ]
  },
  {
   "cell_type": "code",
   "execution_count": 2,
   "metadata": {},
   "outputs": [
    {
     "name": "stdout",
     "output_type": "stream",
     "text": [
      "1.84158427617643/r_s**2\n"
     ]
    }
   ],
   "source": [
    "from sympy import pi, Rational, symbols, simplify\n",
    "\n",
    "# Define the variable\n",
    "r_s = symbols('r_s')\n",
    "\n",
    "# Define the expression\n",
    "expr = (Rational(9, 4) * pi)**Rational(2, 3) / (2 * r_s**2)\n",
    "\n",
    "# Simplify the expression\n",
    "simplified_expr = simplify(expr)\n",
    "\n",
    "# Display the result\n",
    "print(simplified_expr.evalf())\n"
   ]
  },
  {
   "cell_type": "markdown",
   "metadata": {},
   "source": [
    "Recompute the value of the kinetic energy for  waved factor in standard units"
   ]
  },
  {
   "cell_type": "code",
   "execution_count": 7,
   "metadata": {},
   "outputs": [
    {
     "name": "stdout",
     "output_type": "stream",
     "text": [
      "Symbolic simplified expression:\n",
      "6**(2/3)*pi**(4/3)*hbar**2/(2*m)\n",
      "\n",
      "Numeric value of the expression (Joules): 9.27e-38\n",
      "Numeric value of the expression (Hartree): 2.13e-20\n"
     ]
    }
   ],
   "source": [
    "from sympy import pi, Rational, symbols, simplify\n",
    "\n",
    "# Define the variables\n",
    "hbar, m = symbols('hbar m')\n",
    "\n",
    "# Define the expression\n",
    "expr = (hbar**2 / (2 * m)) * (2 * pi / ((4 * pi / 3)**Rational(1, 3)))**2\n",
    "\n",
    "# Simplify the expression\n",
    "simplified_expr = simplify(expr)\n",
    "\n",
    "print(\"Symbolic simplified expression:\")\n",
    "print(simplified_expr)\n",
    "\n",
    "# Substitute in for hbar and m in SI units\n",
    "hbar_value = 1.0545718e-34  # J s\n",
    "m_value = 9.10938356e-31    # kg\n",
    "\n",
    "# Substitute numeric values into the simplified expression\n",
    "numeric_expr = simplified_expr.subs({hbar: hbar_value, m: m_value})\n",
    "\n",
    "# Evaluate the expression numerically in joules\n",
    "result_joules = numeric_expr.evalf()\n",
    "\n",
    "# Conversion factor from Joules to Hartree\n",
    "joules_to_ha = / 4.35974e-18\n",
    "\n",
    "# Convert result to Hartree\n",
    "result_ha = result_joules * joules_to_ha\n",
    "\n",
    "print(f\"\\nNumeric value of the expression (Joules): {result_joules:.2e}\")\n",
    "print(f\"Numeric value of the expression (Hartree): {result_ha:.2e}\")\n"
   ]
  }
 ],
 "metadata": {
  "kernelspec": {
   "display_name": "pyscf_env",
   "language": "python",
   "name": "python3"
  },
  "language_info": {
   "codemirror_mode": {
    "name": "ipython",
    "version": 3
   },
   "file_extension": ".py",
   "mimetype": "text/x-python",
   "name": "python",
   "nbconvert_exporter": "python",
   "pygments_lexer": "ipython3",
   "version": "3.8.17"
  }
 },
 "nbformat": 4,
 "nbformat_minor": 2
}
