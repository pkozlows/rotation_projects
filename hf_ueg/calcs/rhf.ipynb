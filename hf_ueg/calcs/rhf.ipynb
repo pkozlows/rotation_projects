{
 "cells": [
  {
   "cell_type": "markdown",
   "metadata": {},
   "source": []
  },
  {
   "cell_type": "code",
   "execution_count": 3,
   "metadata": {},
   "outputs": [
    {
     "name": "stdout",
     "output_type": "stream",
     "text": [
      "0.858535681914999*pi**0.666666666666667*(r_s**(-3))**0.666666666666667\n"
     ]
    }
   ],
   "source": [
    "import sympy as sp\n",
    "\n",
    "# Define symbols\n",
    "n, r_s = sp.symbols('n r_s')\n",
    "\n",
    "# Standard definition of the Fermi energy in terms of density n\n",
    "E_F = 0.5*(3 * sp.pi**2 * n)**(2 / 3)\n",
    "\n",
    "# Express the electron density n in terms of the Wigner-Seitz radius r_s\n",
    "n_expr = 3 / (4 * sp.pi * r_s**3)\n",
    "\n",
    "# Substitute the expression for n into the Fermi energy formula\n",
    "E_F_in_r_s = E_F.subs(n, n_expr)\n",
    "\n",
    "# Simplify the expression\n",
    "E_F_in_r_s = E_F_in_r_s.simplify()\n",
    "\n",
    "print(E_F_in_r_s)\n"
   ]
  },
  {
   "cell_type": "code",
   "execution_count": 2,
   "metadata": {},
   "outputs": [
    {
     "data": {
      "text/latex": [
       "$\\displaystyle \\frac{7.596333120576}{N^{0.666666666666667} r_{s}^{2}}$"
      ],
      "text/plain": [
       "7.596333120576/(N**0.666666666666667*r_s**2)"
      ]
     },
     "execution_count": 2,
     "metadata": {},
     "output_type": "execute_result"
    }
   ],
   "source": [
    "import sympy as sp\n",
    "\n",
    "# Define symbols\n",
    "N, r_s = sp.symbols('N r_s')\n",
    "\n",
    "# Define the term\n",
    "inner_term = (2 * sp.pi) / ((4 * sp.pi * N / 3)**(1/3) * r_s)\n",
    "\n",
    "# Define the full expression\n",
    "expression = 0.5 * inner_term**2\n",
    "\n",
    "# Simplify the expression\n",
    "simplified_expression = sp.simplify(expression)\n",
    "\n",
    "# Print the simplified expression\n",
    "simplified_expression.evalf()"
   ]
  },
  {
   "cell_type": "code",
   "execution_count": 1,
   "metadata": {},
   "outputs": [
    {
     "data": {
      "text/latex": [
       "$\\displaystyle \\frac{7.596333120576}{N^{0.666666666666667} rs^{2}}$"
      ],
      "text/plain": [
       "7.596333120576/(N**0.666666666666667*rs**2)"
      ]
     },
     "execution_count": 1,
     "metadata": {},
     "output_type": "execute_result"
    }
   ],
   "source": [
    "from sympy import symbols, pi\n",
    "\n",
    "# Define variables\n",
    "N, rs = symbols('N rs')\n",
    "\n",
    "# Define the expression\n",
    "expression = 2 * pi**2 / ((4 * pi * N / 3)**(2/3) * rs**2)\n",
    "\n",
    "# Print the symbolic expression\n",
    "expression.simplify().evalf()\n"
   ]
  }
 ],
 "metadata": {
  "kernelspec": {
   "display_name": "pyscf_env",
   "language": "python",
   "name": "python3"
  },
  "language_info": {
   "codemirror_mode": {
    "name": "ipython",
    "version": 3
   },
   "file_extension": ".py",
   "mimetype": "text/x-python",
   "name": "python",
   "nbconvert_exporter": "python",
   "pygments_lexer": "ipython3",
   "version": "3.8.17"
  }
 },
 "nbformat": 4,
 "nbformat_minor": 2
}
