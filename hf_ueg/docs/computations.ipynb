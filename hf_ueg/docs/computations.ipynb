{
 "cells": [
  {
   "cell_type": "code",
   "execution_count": 1,
   "metadata": {},
   "outputs": [
    {
     "name": "stdout",
     "output_type": "stream",
     "text": [
      "Kinetic Energy (E_kinetic) evaluated to 5 significant figures:\n",
      "7.5963*(nx**2 + ny**2 + nz**2)/(N**0.66667*rs**2)\n"
     ]
    }
   ],
   "source": [
    "import sympy as sp\n",
    "\n",
    "# Define symbols\n",
    "N = sp.Symbol('N', positive=True)  # Number of electrons\n",
    "rs = sp.Symbol('rs', positive=True)  # Wigner-Seitz radius\n",
    "nx = sp.Symbol('nx', integer=True)  # Quantum number nx\n",
    "ny = sp.Symbol('ny', integer=True)  # Quantum number ny\n",
    "nz = sp.Symbol('nz', integer=True)  # Quantum number nz\n",
    "\n",
    "# Define the kinetic energy expression\n",
    "kinetic_energy = sp.Rational(1, 2) * (2 * sp.pi / (sp.root(4 * sp.pi * N / 3, 3) * rs))**2 * (nx**2 + ny**2 + nz**2)\n",
    "\n",
    "# Evaluate the expression to 5 significant figures\n",
    "kinetic_energy_evaluated = sp.N(kinetic_energy, 5)\n",
    "\n",
    "# Print the evaluated kinetic energy\n",
    "print(f\"Kinetic Energy (E_kinetic) evaluated to 5 significant figures:\")\n",
    "print(kinetic_energy_evaluated)\n"
   ]
  }
 ],
 "metadata": {
  "kernelspec": {
   "display_name": "pyscf_env",
   "language": "python",
   "name": "python3"
  },
  "language_info": {
   "codemirror_mode": {
    "name": "ipython",
    "version": 3
   },
   "file_extension": ".py",
   "mimetype": "text/x-python",
   "name": "python",
   "nbconvert_exporter": "python",
   "pygments_lexer": "ipython3",
   "version": "3.8.17"
  }
 },
 "nbformat": 4,
 "nbformat_minor": 2
}
